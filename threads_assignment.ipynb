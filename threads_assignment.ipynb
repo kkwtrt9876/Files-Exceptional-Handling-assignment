{
 "cells": [
  {
   "cell_type": "markdown",
   "metadata": {},
   "source": [
    "# Files & Exceptional Handling\n"
   ]
  },
  {
   "cell_type": "markdown",
   "metadata": {},
   "source": [
    "\n",
    "### 1. Discuss the scenarios where multithreading is preferable to multiprocessing and scenarios where multiprocessing is a better choice."
   ]
  },
  {
   "cell_type": "markdown",
   "metadata": {},
   "source": [
    "Multithreading is preferable in scenarios where tasks are I/O-bound (e.g., file I/O, network communication), meaning they spend most of their time waiting for input/output operations to complete. This allows threads to switch context and continue executing while waiting for I/O operations.\n",
    "\n",
    "Examples of multithreading use cases:\n",
    "\n",
    "Web servers handling multiple client requests.  \n",
    "Downloading files from the internet.  \n",
    "Reading from multiple files concurrently.  \n",
    "Multiprocessing is better for CPU-bound tasks, where the performance is limited by the CPU’s speed. In such cases, each process runs in its own memory   space, allowing for true parallelism across multiple CPU cores.  \n",
    "\n",
    "Examples of multiprocessing use cases:  \n",
    "\n",
    "Large-scale data processing tasks.  \n",
    "Mathematical computations, such as matrix multiplication or image processing.  \n",
    "Machine learning model training."
   ]
  },
  {
   "cell_type": "markdown",
   "metadata": {},
   "source": [
    "### 2. Describe what a process pool is and how it helps in managing multiple processes efficiently.\""
   ]
  },
  {
   "cell_type": "markdown",
   "metadata": {},
   "source": [
    "A process pool is a collection of worker processes that are created and managed by a pool manager. The idea is to preallocate processes to reduce the   overhead of creating and destroying processes repeatedly. When tasks need to be executed, they are distributed to available workers in the pool, which run  them concurrently. This approach helps in:  \n",
    "\n",
    "Reducing the time spent on creating and destroying processes.  \n",
    "Efficiently managing system resources by limiting the number of active processes.  \n",
    "Simplifying the management of multiple processes by queuing up tasks and allocating them to available workers.  "
   ]
  },
  {
   "cell_type": "markdown",
   "metadata": {},
   "source": [
    "### 3. Explain what multiprocessing is and why it is used in Python programs."
   ]
  },
  {
   "cell_type": "markdown",
   "metadata": {},
   "source": [
    "Multiprocessing refers to the ability to run multiple processes simultaneously by taking advantage of multiple CPU cores. Each process runs in its own   memory space, avoiding the Global Interpreter Lock (GIL) issue in Python that prevents true parallelism in multithreaded programs.  \n",
    "\n",
    "In Python, multiprocessing is used to:  \n",
    "\n",
    "Speed up CPU-bound tasks by utilizing multiple cores.  \n",
    "Allow tasks to run independently in different memory spaces, which is essential for parallel computation.  \n",
    "Avoid performance bottlenecks caused by Python’s GIL."
   ]
  },
  {
   "cell_type": "markdown",
   "metadata": {},
   "source": [
    "### 4. Write a Python program using multithreading where one thread adds numbers to a list, and another thread removes numbers from the list. Implement a mechanism to avoid race conditions using threading.Lock."
   ]
  },
  {
   "cell_type": "code",
   "execution_count": 1,
   "metadata": {},
   "outputs": [
    {
     "name": "stdout",
     "output_type": "stream",
     "text": [
      "Added 0\n",
      "Removed 0\n",
      "Added 1\n",
      "Removed 1\n",
      "Added 2\n",
      "Removed 2\n",
      "Added 3\n",
      "Removed 3\n",
      "Added 4\n",
      "Removed 4\n",
      "Added 5\n",
      "Removed 5\n",
      "Added 6\n",
      "Removed 6\n",
      "Added 7\n",
      "Removed 7\n",
      "Added 8\n",
      "Removed 8\n",
      "Added 9\n",
      "Removed 9\n"
     ]
    },
    {
     "name": "stderr",
     "output_type": "stream",
     "text": [
      "Exception in thread Thread-6 (remove_numbers):\n",
      "Traceback (most recent call last):\n",
      "  File \"c:\\Python312\\Lib\\threading.py\", line 1073, in _bootstrap_inner\n",
      "    self.run()\n",
      "  File \"c:\\Python312\\Lib\\site-packages\\ipykernel\\ipkernel.py\", line 766, in run_closure\n",
      "    _threading_Thread_run(self)\n",
      "  File \"c:\\Python312\\Lib\\threading.py\", line 1010, in run\n",
      "    self._target(*self._args, **self._kwargs)\n",
      "  File \"C:\\Users\\4G Traders\\AppData\\Local\\Temp\\ipykernel_11376\\1234401980.py\", line 19, in remove_numbers\n",
      "AttributeError: 'range' object has no attribute 'pop'\n"
     ]
    }
   ],
   "source": [
    "import threading\n",
    "import time\n",
    "\n",
    "numbers = []\n",
    "lock = threading.Lock()\n",
    "\n",
    "def add_numbers():\n",
    "    for i in range(10):\n",
    "        lock.acquire()\n",
    "        numbers.append(i)\n",
    "        print(f\"Added {i}\")\n",
    "        lock.release()\n",
    "        time.sleep(1)\n",
    "\n",
    "def remove_numbers():\n",
    "    while True:\n",
    "        lock.acquire()\n",
    "        if numbers:\n",
    "            removed = numbers.pop(0)\n",
    "            print(f\"Removed {removed}\")\n",
    "        lock.release()\n",
    "        time.sleep(1)\n",
    "\n",
    "# Creating threads\n",
    "t1 = threading.Thread(target=add_numbers)\n",
    "t2 = threading.Thread(target=remove_numbers)\n",
    "\n",
    "# Starting threads\n",
    "t1.start()\n",
    "t2.start()\n",
    "\n",
    "# Joining threads\n",
    "t1.join()\n"
   ]
  },
  {
   "cell_type": "markdown",
   "metadata": {},
   "source": [
    "### 5. Describe the methods and tools available in Python for safely sharing data between threads and processes."
   ]
  },
  {
   "cell_type": "markdown",
   "metadata": {},
   "source": [
    "In Python, several tools are available for safely sharing data between threads and processes:  \n",
    "\n",
    "For Threads:  \n",
    "\n",
    "threading.Lock: Ensures that only one thread can access shared data at a time, avoiding race conditions.  \n",
    "threading.RLock: A re-entrant lock that allows the same thread to acquire the lock multiple times.  \n",
    "threading.Event: A flag that can be set and checked by threads to control their execution.  \n",
    "threading.Condition: Allows threads to wait until a certain condition is met.  \n",
    "\n",
    "For Processes:  \n",
    "\n",
    "multiprocessing.Queue: Allows processes to safely exchange data using a FIFO queue.  \n",
    "multiprocessing.Pipe: A two-way communication channel between processes.  \n",
    "multiprocessing.Manager: Allows the creation of shared objects like lists, dictionaries, and more that can be accessed by multiple processes.  \n",
    "multiprocessing.Value and multiprocessing.Array: Provide ways to share simple data types and arrays between processes.  "
   ]
  },
  {
   "cell_type": "markdown",
   "metadata": {},
   "source": [
    "### 6. Discuss why it’s crucial to handle exceptions in concurrent programs and the techniques available for doing so."
   ]
  },
  {
   "cell_type": "markdown",
   "metadata": {},
   "source": [
    "Handling exceptions in concurrent programs is crucial because:  \n",
    "\n",
    "Unhandled exceptions in one thread or process can cause unexpected crashes, resource leaks, or incorrect results.  \n",
    "In multithreading or multiprocessing environments, errors in one part of the program can impact other parts if not properly managed.  \n",
    "\n",
    "Techniques for handling exceptions:  \n",
    "\n",
    "Try-except blocks: Wrap concurrent tasks in try-except blocks to ensure exceptions are caught and handled appropriately.  \n",
    "Thread-safe exception handling: Use mechanisms like concurrent.futures in Python, which propagates exceptions from worker threads/processes to the main   thread, allowing centralized handling.  \n",
    "Logging: Use logging to track exceptions and their causes without disrupting the program's flow.  \n",
    "Timeouts: Set timeouts for tasks to avoid indefinite blocking.  "
   ]
  },
  {
   "cell_type": "markdown",
   "metadata": {},
   "source": [
    "### 7. Create a program that uses a thread pool to calculate the factorial of numbers from 1 to 10 concurrently. Use concurrent.futures.ThreadPoolExecutor to manage the threads."
   ]
  },
  {
   "cell_type": "code",
   "execution_count": 2,
   "metadata": {},
   "outputs": [
    {
     "name": "stdout",
     "output_type": "stream",
     "text": [
      "Factorial of 1 is 1\n",
      "Factorial of 2 is 2\n",
      "Factorial of 3 is 6\n",
      "Factorial of 4 is 24\n",
      "Factorial of 5 is 120\n",
      "Factorial of 6 is 720\n",
      "Factorial of 7 is 5040\n",
      "Factorial of 8 is 40320\n",
      "Factorial of 9 is 362880\n",
      "Factorial of 10 is 3628800\n"
     ]
    }
   ],
   "source": [
    "import concurrent.futures\n",
    "import math\n",
    "\n",
    "def factorial(n):\n",
    "    return math.factorial(n)\n",
    "\n",
    "numbers = range(1, 11)\n",
    "\n",
    "with concurrent.futures.ThreadPoolExecutor() as executor:\n",
    "    results = executor.map(factorial, numbers)\n",
    "\n",
    "for number, result in zip(numbers, results):\n",
    "    print(f\"Factorial of {number} is {result}\")\n"
   ]
  },
  {
   "cell_type": "markdown",
   "metadata": {},
   "source": [
    "### 8. Create a Python program that uses multiprocessing.Pool to compute the square of numbers from 1 to 10 in parallel. Measure the time taken to perform this computation using a pool of different sizes (e.g., 2, 4, 8 processes)."
   ]
  },
  {
   "cell_type": "code",
   "execution_count": null,
   "metadata": {},
   "outputs": [],
   "source": [
    "import multiprocessing\n",
    "import time\n",
    "\n",
    "def square(n):\n",
    "    return n * n\n",
    "\n",
    "numbers = range(1, 11)\n",
    "\n",
    "def compute_squares(pool_size):\n",
    "    with multiprocessing.Pool(pool_size) as pool:\n",
    "        start_time = time.time()\n",
    "        results = pool.imap(square, numbers)  # Use imap instead of map\n",
    "        results = list(results)  # Collect the results lazily\n",
    "        end_time = time.time()\n",
    "        print(f\"Results with pool size {pool_size}: {results}\")\n",
    "        print(f\"Time taken: {end_time - start_time} seconds\")\n",
    "\n",
    "# Measure with different pool sizes\n",
    "for pool_size in [2, 4, 8]:\n",
    "    compute_squares(pool_size)\n"
   ]
  },
  {
   "cell_type": "code",
   "execution_count": null,
   "metadata": {},
   "outputs": [],
   "source": []
  }
 ],
 "metadata": {
  "kernelspec": {
   "display_name": "Python 3",
   "language": "python",
   "name": "python3"
  },
  "language_info": {
   "codemirror_mode": {
    "name": "ipython",
    "version": 3
   },
   "file_extension": ".py",
   "mimetype": "text/x-python",
   "name": "python",
   "nbconvert_exporter": "python",
   "pygments_lexer": "ipython3",
   "version": "3.12.2"
  }
 },
 "nbformat": 4,
 "nbformat_minor": 2
}
